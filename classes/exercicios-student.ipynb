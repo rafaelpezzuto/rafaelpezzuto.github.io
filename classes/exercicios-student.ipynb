{
 "cells": [
  {
   "cell_type": "markdown",
   "metadata": {},
   "source": [
    "# Aula de 2024-09-12\n",
    "Lista de exercícios sobre funções e Leitura/escrita de arquivos. Todos os exercícios devem ser resolvidos utilizando funções."
   ]
  },
  {
   "cell_type": "markdown",
   "metadata": {},
   "source": [
    "## Lembretes"
   ]
  },
  {
   "cell_type": "markdown",
   "metadata": {},
   "source": [
    "### Funções\n",
    "Funções são blocos de instruções que realizam tarefas específicas. Quando uma tarefa é muito utilizada, costuma-se agrupar em uma ou mais funções as suas instruções. Uma função pode ser definida da seguinte forma:\n",
    "\n",
    "```python\n",
    "def soma(x, y):\n",
    "    # Faça operações com os parâmetros:\n",
    "    resultado = x + y\n",
    "    # Retorne o resultado obtido\n",
    "    return resultado\n",
    "```\n",
    "\n",
    "No exemplo anterior, `x` e `y` são parâmetros obrigatórios da função de exemplo. `soma` é o nome da função. \n",
    "\n",
    "Uma função não precisa retornar valor, isto é, a instrução `return` pode ser omitida. Para que um parâmetro seja opcional, isto é, para que possa ser omitido ao invocar uma função, é preciso definir um valor padrão na sua assinatura. Por exemplo:\n",
    "\n",
    "```python\n",
    "def cumprimento(nome='desconhecido'):\n",
    "    print(f'Olá, {nome}!')\n",
    "```\n",
    "\n",
    "São formas de usar uma função:\n",
    "```python\n",
    "resultado1 = soma(2, 3)\n",
    "print(resultado1)   # Imprime 5\n",
    "\n",
    "print(soma(10, 20)) # Imprime 30\n",
    "\n",
    "cumprimento('João') # Imprime 'Olá, João!'\n",
    "cumprimento()       # Imprime 'Olá, desconhecido!'\n",
    "```\n",
    "\n",
    "Em Python, comentários podem ser úteis para documentar o código, mas não são executados pelo interpretador. Comentário são inseridos utilizando o caractere #.\n",
    "\n",
    "Para alterar o valor de uma variável externa à definição de uma função, é preciso usar a palavra reservada `global`. Por exemplo, veja a situação em que o valor de `h` não é alterado:\n",
    "\n",
    "```python\n",
    "h = 10\n",
    "\n",
    "def altera_valor():\n",
    "    h = 50\n",
    "\n",
    "print(h)            # Imprime 10\n",
    "altera_valor()      \n",
    "print(h)            # Imprime 10\n",
    "```\n",
    "\n",
    "E veja situação em que o valor de `h` é alterado:\n",
    "```python\n",
    "h = 20\n",
    "\n",
    "def altera_valor_de_verdade():\n",
    "    global h\n",
    "    h = 50\n",
    "\n",
    "print(h)            # Imprime 20\n",
    "altera_valor_de_verdade()\n",
    "print(h)            # Imprime 50\n",
    "```"
   ]
  },
  {
   "cell_type": "markdown",
   "metadata": {},
   "source": [
    "## Exercícios"
   ]
  },
  {
   "cell_type": "markdown",
   "metadata": {},
   "source": [
    "#### 1. Crie uma função chamada `media_dos_positivos`, que possui um parâmetro chamado `lista`, que recebe uma lista de números e retorna a média dos valores positivos. O programa deve retornar a string \"Não foi possível calcular a média\" caso: (a) nenhum número inteiro positivo estiver na lista; (b) a lista possuir tamanho zero. Exemplos de uso:\n",
    "```python\n",
    "valor = media([1, 2, 3, 4, 5])\n",
    "print(valor)        # Imprime 3.0\n",
    "\n",
    "valor = media([1, 2, 3, 4, 5, 6])\n",
    "print(valor)        # Imprime 3.5\n",
    "\n",
    "valor = media([1, -1, 3, -4, 5, 6, 7])\n",
    "print(valor)        # Imprime 4.4\n",
    "\n",
    "valor = media([-1, -7])\n",
    "print(valor)        # Não foi possível calcular a média\n",
    "\n",
    "valor = media([])\n",
    "print(valor)        # Não foi possível calcular a média\n",
    "\n",
    "```"
   ]
  },
  {
   "cell_type": "code",
   "execution_count": null,
   "metadata": {},
   "outputs": [],
   "source": [
    "def media(lista):\n",
    "    # TODO\n",
    "\n",
    "media([1, 2, 3, 4, 5]), media([1, 2, 3, 4, 5, 6]), media([1, -1, 3, -4, 5, 6, 7]), media([-1, -2]), media([])"
   ]
  },
  {
   "cell_type": "markdown",
   "metadata": {},
   "source": [
    "#### 2. Crie uma função que leia uma quantidade indeterminada de números positivos e conte quantos deles estão nos seguintes intervalos: [0-25], [26-50], [51-75] e [76-100]. A entrada de dados deverá terminar quando um número negativo for lido. Exemplos de uso:\n",
    "\n",
    "```python\n",
    "leia()      # Imprime 'Digite um número positivo. Para encerrar, digite um número negativo'\n",
    "`Usuário digita 10`\n",
    "`Usuário digita 25`\n",
    "`Usuário digita 55`\n",
    "`Usuário digita 70`\n",
    "`Usuário digita 3`\n",
    "`Usuário digita -1`\n",
    "            # Imprime\n",
    "            #   Valores entre 0 e 25: 3\n",
    "            #   Valores entre 26 e 50: 0\n",
    "            #   Valores entre 51 e 75: 2\n",
    "            #   Valores entre 76 e 100: 0\n",
    "```"
   ]
  },
  {
   "cell_type": "code",
   "execution_count": null,
   "metadata": {},
   "outputs": [],
   "source": [
    "def leia():\n",
    "    # TODO\n",
    "\n",
    "leia()"
   ]
  },
  {
   "cell_type": "markdown",
   "metadata": {},
   "source": [
    "#### 3. Crie uma função chamada `meio_lista` que recebe uma lista e retorna os elementos que estão no meio (excluindo o primeiro e o último elementos). Exemplos de uso:\n",
    "```python\n",
    "meio_lista([1, 2, 3, 4, 5])                                     # Imprime [2, 3, 4]\n",
    "meio_lista(['universidade de são paulo', 'usp', 'if', 'ime'])   # Imprime ['usp', 'if']\n",
    "```"
   ]
  },
  {
   "cell_type": "markdown",
   "metadata": {},
   "source": [
    "#### 4. Implemente uma função chamada `saudacao` que recebe o nome de uma pessoa e, opcionalmente, a saudação a ser usada. Se nenhuma saudação for fornecida, use \"Olá\". Exemplos de uso:\n",
    "```python\n",
    "saudacao('João')                # Imprime 'Olá, João'\n",
    "saudacao('João', 'Bom dia')     # Imprime 'Bom dia, João'\n",
    "saudacao('Maria')               # Imprime 'Olá, Maria'\n",
    "```"
   ]
  },
  {
   "cell_type": "markdown",
   "metadata": {},
   "source": [
    "#### 5. Crie uma função chamada `incrementa_contador` que incrementa um contador global toda vez que for chamada. Exemplos de uso\n",
    "```python\n",
    "contador = 0\n",
    "\n",
    "for i in range(10):\n",
    "    incrementa_contador()\n",
    "\n",
    "print(contador)                 # Imprime 10\n"
   ]
  },
  {
   "cell_type": "code",
   "execution_count": null,
   "metadata": {},
   "outputs": [],
   "source": [
    "contador = 0\n",
    "\n",
    "def incrementa_contador():\n",
    "    # TODO\n",
    "\n",
    "for i in range(10):\n",
    "    incrementa_contador()\n",
    "\n",
    "print(contador)"
   ]
  },
  {
   "cell_type": "markdown",
   "metadata": {},
   "source": [
    "#### 6. Crie uma função chamada `remove_elementos` que remove todos os elementos de uma lista que são menores que um valor passado como parâmetro opcional (o valor padrão deve ser 10). Exemplos de uso:\n",
    "```python\n",
    "lista = [1, 2, 3, 4, 5, 6, 7, 8, 9, 10]\n",
    "remove_elementos(lista, 5)\n",
    "print(lista)                    # Imprime [5, 6, 7, 8, 9, 10]\n",
    "\n",
    "lista = [32, 1, 54, 50, 0]\n",
    "remove_elementos(lista, 50)\n",
    "print(lista)                    # Imprime [54, 50]\n",
    "```"
   ]
  },
  {
   "cell_type": "markdown",
   "metadata": {},
   "source": [
    "#### 7. Crie uma função chamada `ler_csv` que recebe o caminho de um arquivo CSV como parâmetro e retorna os dados em forma de listas. Suponha que o CSV tenha quatro colunas: `tempo, x, y e z`, separadas pelo caractere `,`. A primeira linha do arquivo contém os nomes das colunas. Exemplos de uso:\n",
    "```python\n",
    "dados = ler_csv('dados.csv')\n",
    "print(dados)                    # Imprime [['tempo', 'x', 'y', 'z'], [0, 5, 3, 1], [1, 6, 3, 6], [2, 7, 7, 1], [3, 8, 9, 0], [4, 9, 0, 0], [5, 10, 1, 1]]\n",
    "```"
   ]
  },
  {
   "cell_type": "code",
   "execution_count": 48,
   "metadata": {},
   "outputs": [],
   "source": [
    "import csv\n",
    "\n",
    "def ler_csv(caminho_arquivo):\n",
    "    tempo = []\n",
    "    x = []\n",
    "    y = []\n",
    "    z = []\n",
    "    \n",
    "    # TODO\n",
    "    \n",
    "    return tempo, x, y, z\n",
    "\n",
    "tempo, x, y, z = ler_csv('sensor.csv')"
   ]
  },
  {
   "cell_type": "code",
   "execution_count": 64,
   "metadata": {},
   "outputs": [],
   "source": [
    "def ler_csv_raw(caminho_arquivo):\n",
    "    tempo = []\n",
    "    x = []\n",
    "    y = []\n",
    "    z = []\n",
    "    \n",
    "    with open(caminho_arquivo, 'r') as arquivo:\n",
    "        next(arquivo)                         # Ignora o cabeçalho\n",
    "        \n",
    "        for linha in arquivo:\n",
    "            # TODO\n",
    "    \n",
    "    return tempo, x, y, z\n",
    "\n",
    "# Exemplo de uso\n",
    "tempo, x, y, z = ler_csv_raw('sensor.csv')\n"
   ]
  },
  {
   "cell_type": "markdown",
   "metadata": {},
   "source": [
    "#### 8. Plote o gráfico dos dados obtidos no exercício anterior usando a biblioteca `matplotlib`."
   ]
  },
  {
   "cell_type": "code",
   "execution_count": null,
   "metadata": {},
   "outputs": [],
   "source": [
    "import matplotlib.pyplot as plt\n",
    "\n",
    "\n",
    "def plotar_eixo(tempo, x):\n",
    "    plt.plot(tempo, x, label='Eixo x')\n",
    "    plt.xlabel('Tempo')\n",
    "    plt.ylabel('Eixo x')\n",
    "    plt.title('Leitura dos sensor ao longo do tempo')\n",
    "    plt.legend()\n",
    "    plt.show()\n",
    "\n",
    "plotar_eixo(tempo, z)"
   ]
  },
  {
   "cell_type": "markdown",
   "metadata": {},
   "source": [
    "#### 9. Crie uma nova função, parecido com `plotar_eixo`, que, em lugar de plotar apenas um eixo, plote todos os eixos de um conjunto de dados."
   ]
  },
  {
   "cell_type": "code",
   "execution_count": null,
   "metadata": {},
   "outputs": [],
   "source": [
    "def plotar_eixos(tempo, x, y, z):\n",
    "    plt.plot(tempo, x, label='Valores do eixo x')\n",
    "    \n",
    "    # TODO\n",
    "    \n",
    "\n",
    "    plt.xlabel('Tempo')\n",
    "    plt.ylabel('Sensores')\n",
    "    plt.title('Leitura dos sensor ao longo do tempo')\n",
    "    plt.legend()\n",
    "    plt.show()\n",
    "\n",
    "plotar_eixos(tempo, x, y, z)"
   ]
  },
  {
   "cell_type": "markdown",
   "metadata": {},
   "source": [
    "#### 10. Crie a função `plotar_eixos_modificados`, baseada na função plotar_eixos. A função nova, porém, deverá substituir por um valor 10 (por padrão), todas as ocorrências de zero ou valores negativos, em quaisquer dos três eixos. "
   ]
  },
  {
   "cell_type": "code",
   "execution_count": null,
   "metadata": {},
   "outputs": [],
   "source": [
    "def substitua_por(lista, valor):\n",
    "    # TODO\n",
    "\n",
    "def plotar_eixos_modificados(tempo, x, y, z, valor=10):\n",
    "    # TODO\n",
    "\n",
    "plotar_eixos_modificados(tempo, x, y, z, valor=-5)"
   ]
  },
  {
   "cell_type": "markdown",
   "metadata": {},
   "source": [
    "#### Extra. Crie duas funções: \n",
    "\n",
    "- (a) Uma para ler um arquivo que contém apenas uma coluna que representa as notas de uma prova realizada por 100 estudantes. A função deve retornar uma lista com as notas lidas; \n",
    "- (b) Outra para computar a média das notas lidas (uma lista de `float`) e um parâmetro que indica um valor para descartar notas. \n",
    "\n",
    "Exemplo de usos ao ler o arquivo `notas.txt`:\n",
    "\n",
    "```python\n",
    "media(notas)        # Imprime Média das notas: 4.996046896091928\n",
    "media(notas, 5)     # Imprime Média das notas: 7.147765319290513\n",
    "media(notas, 7)     # Imprime Média das notas: 8.563039160358713\n",
    "```"
   ]
  },
  {
   "cell_type": "code",
   "execution_count": null,
   "metadata": {},
   "outputs": [],
   "source": [
    "def leia_txt(arquivo):\n",
    "    # TODO\n",
    "\n",
    "def media(notas, valor_minimo=None):\n",
    "    # TODO\n",
    "\n",
    "notas = leia_txt('notas.txt')\n",
    "media(notas, valor_minimo=5)\n",
    "media(notas, valor_minimo=7)\n",
    "media(notas)"
   ]
  },
  {
   "cell_type": "markdown",
   "metadata": {},
   "source": [
    "#### Gráfico da distribuição das notas"
   ]
  },
  {
   "cell_type": "code",
   "execution_count": null,
   "metadata": {},
   "outputs": [],
   "source": [
    "plt.hist(notas, bins=10, edgecolor='black')  # O argumento 'bins' define o número de intervalos\n",
    "plt.xlabel('Notas')\n",
    "plt.ylabel('Frequência')\n",
    "plt.title('Distribuição de notas')\n",
    "plt.show()"
   ]
  },
  {
   "cell_type": "markdown",
   "metadata": {},
   "source": [
    "#### Extra 2. Altere o gráfico anterior para considerar apenas as notas acima de 5. Use compressão de listas."
   ]
  },
  {
   "cell_type": "code",
   "execution_count": null,
   "metadata": {},
   "outputs": [],
   "source": [
    "# TODO\n",
    "notas = ...\n",
    "\n",
    "plt.hist(notas, bins=10, edgecolor='black')  # O argumento 'bins' define o número de intervalos\n",
    "plt.xlabel('Notas')\n",
    "plt.ylabel('Frequência')\n",
    "plt.title('Distribuição de notas')\n",
    "plt.show()"
   ]
  }
 ],
 "metadata": {
  "kernelspec": {
   "display_name": "Python 3",
   "language": "python",
   "name": "python3"
  },
  "language_info": {
   "codemirror_mode": {
    "name": "ipython",
    "version": 3
   },
   "file_extension": ".py",
   "mimetype": "text/x-python",
   "name": "python",
   "nbconvert_exporter": "python",
   "pygments_lexer": "ipython3",
   "version": "3.11.9"
  }
 },
 "nbformat": 4,
 "nbformat_minor": 2
}
